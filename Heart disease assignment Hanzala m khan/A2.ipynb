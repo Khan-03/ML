{
 "cells": [
  {
   "cell_type": "markdown",
   "metadata": {},
   "source": [
    "        *----------------------------- AUTHOR_DETAILS -------------------------------*\n",
    "        |                                                                            |\n",
    "        |        Project Title  = Heart Disease Prediction System                    |\n",
    "        |                                                                            |\n",
    "        |        Author         = Mr. Hanzala Muhammad Khan                          |\n",
    "        |                                                                            |\n",
    "        *----------------------------------------------------------------------------*"
   ]
  },
  {
   "cell_type": "markdown",
   "metadata": {},
   "source": [
    "<br><br><br>\n",
    "<center> <h2 style=\"color:green\">-------------------- PROJECT PURPOSE --------------------</h2> </center>\n",
    "<br>\n",
    "<center><h3>\n",
    "The main purpose of this Project is to demonstrate how the Heart Disease Problem can be treated as a Supervised Machine Learning Problem using Python and Scikit-learn Machine Learning Toolkit </h3>\n",
    "<br>\n",
    "<center><h3> For this Purpose, we will execute the Machine Learning Cycle </h3>\n",
    "<br>\n",
    "<center> <h2 style=\"color:green\">-------------------------------------------------------------------------</h2> </center>\n",
    "<br><br><br>"
   ]
  },
  {
   "cell_type": "markdown",
   "metadata": {},
   "source": [
    "# Machine Learning Cycle\n",
    "\n",
    "### Four phases of a Machine Learning Cycle are\n",
    "\n",
    "### Training Phase\n",
    "\n",
    "    Build the Model using Training Data\n",
    "\n",
    "### Testing Phase\n",
    "\n",
    "     Evaluate the performance of Model using Testing Data\n",
    "\n",
    "### Application Phase\n",
    "\n",
    "     Deploy the Model in the Real-world, to predict Real-time unseen Data\n",
    "\n",
    "### Feedback Phase\n",
    "\n",
    "    Take Feedback from the Users and Domain Experts to improve the Model\n"
   ]
  },
  {
   "cell_type": "markdown",
   "metadata": {},
   "source": [
    "### We will follow the following steps to execute the Machine Learning Cycle Using a Single File\n",
    "\n",
    "#### Step 1: Import Libraries\n",
    "\n",
    "#### Step 2: Load Sample Data\n",
    "\n",
    "#### Step 3: Understand and Pre-process Sample Data\n",
    "    \n",
    "    Step 3.1: Understand Sample Data\n",
    "    \n",
    "    Step 3.2: Pre-process Sample Data\n",
    "\n",
    "#### Step 4: Feature Extraction \n",
    "\n",
    "#### Step 5: Label Encoding (Input and Output is converted in Numeric Representation)\n",
    "\n",
    "    Step 5.1: Train the Label Encoder\n",
    "\n",
    "    Step 5.2: Label Encode the Output\n",
    "\n",
    "    Step 5.3: Label Encode the Input \n",
    "\n",
    "#### Step 6: Execute the Training Phase\n",
    "\n",
    "    Step 6.1: Splitting Sample Data into Training Data and Testing Data \n",
    "\n",
    "    Step 6.2: Splitting Input Vectors and Outputs / Labels of Training Data\n",
    "\n",
    "    Step 6.3: Train the Support Vector Classifier\n",
    "\n",
    "    Step 6.4: Save the Trained Model\n",
    "\n",
    "#### Step 7: Execute the Testing Phase \n",
    "\n",
    "    Step 7.1: Splitting Input Vectors and Outputs/Labels of Testing Data\n",
    "    \n",
    "    Step 7.2: Load the Saved Model\n",
    "    \n",
    "    Step 7.3: Evaluate the Performance of Trained Model\n",
    "\n",
    "        Step 7.3.1: Make Predictions with the Trained Model on Testing Data\n",
    "\n",
    "    Step 7.4: Calculate the Accuracy Score\n",
    "\n",
    "#### Step 8: Execute the Application Phase \n",
    "\n",
    "    Step 8.1: Take Input from User \n",
    "\n",
    "    Step 8.2: Convert User Input into Feature Vector (Exactly Same as Feature Vectors of Sample Data)\n",
    "\n",
    "    Step 8.3: Label Encoding of Feature Vector (Exactly Same as Label Encoded Feature Vectors of Sample Data)\n",
    "\n",
    "    Step 8.4: Load the Saved Model\n",
    "\n",
    "    Step 8.5: Model Prediction\n",
    "\n",
    "         Step 8.5.1: Apply Model on the Label Encoded Feature Vector of unseen instance and return Prediction to the User\n",
    "\n",
    "#### Step 9: Execute the Feedback Phase \n",
    "\n",
    "#### Step 10: Improve the Model based on Feedback"
   ]
  },
  {
   "cell_type": "markdown",
   "metadata": {},
   "source": [
    "# Step 1: Import Libraries"
   ]
  },
  {
   "cell_type": "code",
   "execution_count": 2,
   "metadata": {},
   "outputs": [],
   "source": [
    "# Import Libraries\n",
    "\n",
    "import numpy as np\n",
    "import pandas as pd\n",
    "import pickle\n",
    "import math\n",
    "\n",
    "from sklearn.model_selection import train_test_split\n",
    "from sklearn.preprocessing import LabelEncoder\n",
    "from sklearn import svm\n",
    "from sklearn.ensemble import RandomForestRegressor\n",
    "from sklearn.metrics import accuracy_score\n",
    "\n",
    "from prettytable import PrettyTable   \n",
    "# from astropy.table import Table, Column"
   ]
  },
  {
   "cell_type": "markdown",
   "metadata": {},
   "source": [
    "# Step 2: Load Sample Data"
   ]
  },
  {
   "cell_type": "code",
   "execution_count": 3,
   "metadata": {},
   "outputs": [
    {
     "name": "stdout",
     "output_type": "stream",
     "text": [
      "\n",
      "\n",
      "Sample Data:\n",
      "============\n",
      "\n",
      "    age  sex  chol  oldpeak  target\n",
      "0    63    1   233      2.3       1\n",
      "1    37    1   250      3.5       1\n",
      "2    41    0   204      1.4       1\n",
      "3    56    1   236      0.8       1\n",
      "4    57    0   354      0.6       1\n",
      "5    57    1   192      0.4       1\n",
      "6    56    0   294      1.3       1\n",
      "7    44    1   263      0.0       1\n",
      "8    52    1   199      0.5       1\n",
      "9    57    1   168      1.6       1\n",
      "10   54    1   239      1.2       1\n",
      "11   48    0   275      0.2       1\n",
      "12   49    1   266      0.6       1\n",
      "13   64    1   211      1.8       1\n",
      "14   58    0   283      1.0       1\n",
      "15   50    0   219      1.6       1\n",
      "16   58    0   340      0.0       1\n",
      "17   66    0   226      2.6       1\n",
      "18   43    1   247      1.5       1\n",
      "19   69    0   239      1.8       1\n",
      "20   59    1   234      0.5       1\n",
      "21   44    1   233      0.4       1\n",
      "22   42    1   226      0.0       1\n",
      "23   61    1   243      1.0       1\n",
      "24   40    1   199      1.4       1\n",
      "25   71    0   302      0.4       1\n",
      "26   59    1   212      1.6       1\n",
      "27   51    1   175      0.6       1\n",
      "28   65    0   417      0.8       1\n",
      "29   53    1   197      1.2       1\n",
      "30   41    0   198      0.0       1\n",
      "31   65    1   177      0.4       1\n",
      "32   44    1   219      0.0       1\n",
      "33   54    1   273      0.5       1\n",
      "34   51    1   213      1.4       1\n",
      "35   46    0   177      1.4       1\n",
      "36   54    0   304      0.0       1\n",
      "37   54    1   232      1.6       1\n",
      "38   65    0   269      0.8       1\n",
      "39   65    0   360      0.8       1\n",
      "40   51    0   308      1.5       1\n",
      "41   48    1   245      0.2       1\n",
      "42   45    1   208      3.0       1\n",
      "43   53    0   264      0.4       1\n",
      "44   39    1   321      0.0       1\n",
      "45   52    1   325      0.2       1\n",
      "46   44    1   235      0.0       1\n",
      "47   47    1   257      0.0       1\n",
      "48   53    0   216      0.0       1\n",
      "49   53    0   234      0.0       1\n",
      "50   67    1   286      1.5       0\n",
      "51   67    1   229      2.6       0\n",
      "52   62    0   268      3.6       0\n",
      "53   63    1   254      1.4       0\n",
      "54   53    1   203      3.1       0\n",
      "55   56    1   256      0.6       0\n",
      "56   48    1   229      1.0       0\n",
      "57   58    1   284      1.8       0\n",
      "58   58    1   224      3.2       0\n",
      "59   60    1   206      2.4       0\n",
      "60   40    1   167      2.0       0\n",
      "61   60    1   230      1.4       0\n",
      "62   64    1   335      0.0       0\n",
      "63   43    1   177      2.5       0\n",
      "64   57    1   276      0.6       0\n",
      "65   55    1   353      1.2       0\n",
      "66   65    0   225      1.0       0\n",
      "67   61    0   330      0.0       0\n",
      "68   58    1   230      2.5       0\n",
      "69   50    1   243      2.6       0\n",
      "70   44    1   290      0.0       0\n",
      "71   60    1   253      1.4       0\n",
      "72   54    1   266      2.2       0\n",
      "73   50    1   233      0.6       0\n",
      "74   41    1   172      0.0       0\n",
      "75   51    0   305      1.2       0\n",
      "76   58    1   216      2.2       0\n",
      "77   54    1   188      1.4       0\n",
      "78   60    1   282      2.8       0\n",
      "79   60    1   185      3.0       0\n",
      "80   59    1   326      3.4       0\n",
      "81   46    1   231      3.6       0\n",
      "82   67    1   254      0.2       0\n",
      "83   62    1   267      1.8       0\n",
      "84   65    1   248      0.6       0\n",
      "85   44    1   197      0.0       0\n",
      "86   60    1   258      2.8       0\n",
      "87   58    1   270      0.8       0\n",
      "88   68    1   274      1.6       0\n",
      "89   62    0   164      6.2       0\n",
      "90   52    1   255      0.0       0\n",
      "91   59    1   239      1.2       0\n",
      "92   60    0   258      2.6       0\n",
      "93   49    1   188      2.0       0\n",
      "94   59    1   177      0.0       0\n",
      "95   57    1   229      0.4       0\n",
      "96   61    1   260      3.6       0\n",
      "97   39    1   219      1.2       0\n",
      "98   61    0   307      1.0       0\n",
      "99   56    1   249      1.2       0\n"
     ]
    }
   ],
   "source": [
    "# Load Sample Data\n",
    " \n",
    "complete_sample_data = pd.read_csv(\"heart-disease-sample-data.csv\")\n",
    "sample_data = pd.DataFrame( complete_sample_data , columns=[\"age\",\"sex\",\"chol\",\"oldpeak\",\"target\"])\n",
    "\n",
    "print(\"\\n\\nSample Data:\")\n",
    "print(\"============\\n\")\n",
    "pd.set_option(\"display.max_rows\", None, \"display.max_columns\", None)\n",
    "print(sample_data)"
   ]
  },
  {
   "cell_type": "markdown",
   "metadata": {},
   "source": [
    "# Step 3: Understand and Pre-process Sample Data"
   ]
  },
  {
   "cell_type": "markdown",
   "metadata": {},
   "source": [
    "## Step 3.1: Understand Sample Data"
   ]
  },
  {
   "cell_type": "code",
   "execution_count": 4,
   "metadata": {},
   "outputs": [
    {
     "name": "stdout",
     "output_type": "stream",
     "text": [
      "\n",
      "\n",
      "Attributes in Sample Data:\n",
      "==========================\n",
      "\n",
      "Index(['age', 'sex', 'chol', 'oldpeak', 'target'], dtype='object')\n",
      "\n",
      "\n",
      "Number of Instances in Sample Data: 100\n",
      "========================================\n",
      "\n"
     ]
    }
   ],
   "source": [
    "# Understand Sample Data\n",
    "\n",
    "print(\"\\n\\nAttributes in Sample Data:\")\n",
    "print(\"==========================\\n\")\n",
    "\n",
    "print(sample_data.columns)\n",
    "\n",
    "print(\"\\n\\nNumber of Instances in Sample Data:\",sample_data[\"age\"].count())\n",
    "print(\"========================================\\n\")"
   ]
  },
  {
   "cell_type": "markdown",
   "metadata": {},
   "source": [
    "## Step 3.2: Pre-process Sample Data\n",
    "    o\tSample Data is already Preprocessed\n",
    "    o\tNo Preprocessing needs to be Performed "
   ]
  },
  {
   "cell_type": "markdown",
   "metadata": {},
   "source": [
    "# Step 4: Feature Extraction\n",
    "    o\tFeatures are already Extracted\n",
    "    o\tNo Feature Extraction needs to be Performed"
   ]
  },
  {
   "cell_type": "markdown",
   "metadata": {},
   "source": [
    "# Step 5: Label Encoding the Sample Data (Input and Output is converted in Numeric Representation)\n",
    "    o\tData already in numeric form, does not need to be encoded"
   ]
  },
  {
   "cell_type": "markdown",
   "metadata": {},
   "source": [
    "# Step 6: Execute the Training Phase "
   ]
  },
  {
   "cell_type": "markdown",
   "metadata": {},
   "source": [
    "## Step 6.1: Splitting Sample Data into Training Data and Testing Data"
   ]
  },
  {
   "cell_type": "code",
   "execution_count": 5,
   "metadata": {},
   "outputs": [
    {
     "name": "stdout",
     "output_type": "stream",
     "text": [
      "\n",
      "\n",
      "Training Data:\n",
      "==============\n",
      "\n",
      "    age  sex  chol  oldpeak  target\n",
      "43   53    0   264      0.4       1\n",
      "62   64    1   335      0.0       0\n",
      "3    56    1   236      0.8       1\n",
      "71   60    1   253      1.4       0\n",
      "45   52    1   325      0.2       1\n",
      "48   53    0   216      0.0       1\n",
      "6    56    0   294      1.3       1\n",
      "99   56    1   249      1.2       0\n",
      "82   67    1   254      0.2       0\n",
      "76   58    1   216      2.2       0\n",
      "60   40    1   167      2.0       0\n",
      "80   59    1   326      3.4       0\n",
      "90   52    1   255      0.0       0\n",
      "68   58    1   230      2.5       0\n",
      "51   67    1   229      2.6       0\n",
      "27   51    1   175      0.6       1\n",
      "18   43    1   247      1.5       1\n",
      "56   48    1   229      1.0       0\n",
      "63   43    1   177      2.5       0\n",
      "74   41    1   172      0.0       0\n",
      "1    37    1   250      3.5       1\n",
      "61   60    1   230      1.4       0\n",
      "42   45    1   208      3.0       1\n",
      "41   48    1   245      0.2       1\n",
      "4    57    0   354      0.6       1\n",
      "15   50    0   219      1.6       1\n",
      "17   66    0   226      2.6       1\n",
      "40   51    0   308      1.5       1\n",
      "38   65    0   269      0.8       1\n",
      "5    57    1   192      0.4       1\n",
      "91   59    1   239      1.2       0\n",
      "59   60    1   206      2.4       0\n",
      "0    63    1   233      2.3       1\n",
      "34   51    1   213      1.4       1\n",
      "28   65    0   417      0.8       1\n",
      "50   67    1   286      1.5       0\n",
      "11   48    0   275      0.2       1\n",
      "35   46    0   177      1.4       1\n",
      "23   61    1   243      1.0       1\n",
      "52   62    0   268      3.6       0\n",
      "10   54    1   239      1.2       1\n",
      "31   65    1   177      0.4       1\n",
      "66   65    0   225      1.0       0\n",
      "57   58    1   284      1.8       0\n",
      "79   60    1   185      3.0       0\n",
      "85   44    1   197      0.0       0\n",
      "32   44    1   219      0.0       1\n",
      "84   65    1   248      0.6       0\n",
      "14   58    0   283      1.0       1\n",
      "89   62    0   164      6.2       0\n",
      "19   69    0   239      1.8       1\n",
      "29   53    1   197      1.2       1\n",
      "49   53    0   234      0.0       1\n",
      "97   39    1   219      1.2       0\n",
      "98   61    0   307      1.0       0\n",
      "69   50    1   243      2.6       0\n",
      "20   59    1   234      0.5       1\n",
      "94   59    1   177      0.0       0\n",
      "72   54    1   266      2.2       0\n",
      "77   54    1   188      1.4       0\n",
      "25   71    0   302      0.4       1\n",
      "37   54    1   232      1.6       1\n",
      "81   46    1   231      3.6       0\n",
      "46   44    1   235      0.0       1\n",
      "39   65    0   360      0.8       1\n",
      "65   55    1   353      1.2       0\n",
      "58   58    1   224      3.2       0\n",
      "12   49    1   266      0.6       1\n",
      "88   68    1   274      1.6       0\n",
      "70   44    1   290      0.0       0\n",
      "87   58    1   270      0.8       0\n",
      "36   54    0   304      0.0       1\n",
      "21   44    1   233      0.4       1\n",
      "83   62    1   267      1.8       0\n",
      "9    57    1   168      1.6       1\n",
      "96   61    1   260      3.6       0\n",
      "67   61    0   330      0.0       0\n",
      "64   57    1   276      0.6       0\n",
      "47   47    1   257      0.0       1\n",
      "44   39    1   321      0.0       1\n",
      "\n",
      "\n",
      "Testing Data:\n",
      "==============\n",
      "\n",
      "    age  sex  chol  oldpeak  target\n",
      "26   59    1   212      1.6       1\n",
      "86   60    1   258      2.8       0\n",
      "2    41    0   204      1.4       1\n",
      "55   56    1   256      0.6       0\n",
      "75   51    0   305      1.2       0\n",
      "93   49    1   188      2.0       0\n",
      "16   58    0   340      0.0       1\n",
      "73   50    1   233      0.6       0\n",
      "54   53    1   203      3.1       0\n",
      "95   57    1   229      0.4       0\n",
      "53   63    1   254      1.4       0\n",
      "92   60    0   258      2.6       0\n",
      "78   60    1   282      2.8       0\n",
      "13   64    1   211      1.8       1\n",
      "7    44    1   263      0.0       1\n",
      "30   41    0   198      0.0       1\n",
      "22   42    1   226      0.0       1\n",
      "24   40    1   199      1.4       1\n",
      "33   54    1   273      0.5       1\n",
      "8    52    1   199      0.5       1\n"
     ]
    }
   ],
   "source": [
    "# Splitting Sample Data into Training Data and Testing Data\n",
    "\n",
    "training_data, testing_data = train_test_split( sample_data , test_size=0.2 , random_state=0 , shuffle = True)\n",
    "\n",
    "# Save the Training and Testing Data into CSV File \n",
    "\n",
    "training_data.to_csv(r'training-data.csv', index = False, header = True)\n",
    "testing_data.to_csv(r'testing-data.csv', index = False, header = True)\n",
    "\n",
    "# print Training and Testing Data\n",
    "\n",
    "print(\"\\n\\nTraining Data:\")\n",
    "print(\"==============\\n\")\n",
    "pd.set_option(\"display.max_rows\", None, \"display.max_columns\", None)\n",
    "print(training_data)\n",
    "print(\"\\n\\nTesting Data:\")\n",
    "print(\"==============\\n\")\n",
    "pd.set_option(\"display.max_rows\", None, \"display.max_columns\", None)\n",
    "print(testing_data)"
   ]
  },
  {
   "cell_type": "markdown",
   "metadata": {},
   "source": [
    "## Step 6.2: Splitting Input Vectors and Outputs / Labels of Training Data"
   ]
  },
  {
   "cell_type": "code",
   "execution_count": 6,
   "metadata": {},
   "outputs": [
    {
     "name": "stdout",
     "output_type": "stream",
     "text": [
      "\n",
      "\n",
      "Inputs Vectors (Feature Vectors) of Training Data:\n",
      "==================================================\n",
      "\n",
      "    age  sex  chol  oldpeak\n",
      "43   53    0   264      0.4\n",
      "62   64    1   335      0.0\n",
      "3    56    1   236      0.8\n",
      "71   60    1   253      1.4\n",
      "45   52    1   325      0.2\n",
      "48   53    0   216      0.0\n",
      "6    56    0   294      1.3\n",
      "99   56    1   249      1.2\n",
      "82   67    1   254      0.2\n",
      "76   58    1   216      2.2\n",
      "60   40    1   167      2.0\n",
      "80   59    1   326      3.4\n",
      "90   52    1   255      0.0\n",
      "68   58    1   230      2.5\n",
      "51   67    1   229      2.6\n",
      "27   51    1   175      0.6\n",
      "18   43    1   247      1.5\n",
      "56   48    1   229      1.0\n",
      "63   43    1   177      2.5\n",
      "74   41    1   172      0.0\n",
      "1    37    1   250      3.5\n",
      "61   60    1   230      1.4\n",
      "42   45    1   208      3.0\n",
      "41   48    1   245      0.2\n",
      "4    57    0   354      0.6\n",
      "15   50    0   219      1.6\n",
      "17   66    0   226      2.6\n",
      "40   51    0   308      1.5\n",
      "38   65    0   269      0.8\n",
      "5    57    1   192      0.4\n",
      "91   59    1   239      1.2\n",
      "59   60    1   206      2.4\n",
      "0    63    1   233      2.3\n",
      "34   51    1   213      1.4\n",
      "28   65    0   417      0.8\n",
      "50   67    1   286      1.5\n",
      "11   48    0   275      0.2\n",
      "35   46    0   177      1.4\n",
      "23   61    1   243      1.0\n",
      "52   62    0   268      3.6\n",
      "10   54    1   239      1.2\n",
      "31   65    1   177      0.4\n",
      "66   65    0   225      1.0\n",
      "57   58    1   284      1.8\n",
      "79   60    1   185      3.0\n",
      "85   44    1   197      0.0\n",
      "32   44    1   219      0.0\n",
      "84   65    1   248      0.6\n",
      "14   58    0   283      1.0\n",
      "89   62    0   164      6.2\n",
      "19   69    0   239      1.8\n",
      "29   53    1   197      1.2\n",
      "49   53    0   234      0.0\n",
      "97   39    1   219      1.2\n",
      "98   61    0   307      1.0\n",
      "69   50    1   243      2.6\n",
      "20   59    1   234      0.5\n",
      "94   59    1   177      0.0\n",
      "72   54    1   266      2.2\n",
      "77   54    1   188      1.4\n",
      "25   71    0   302      0.4\n",
      "37   54    1   232      1.6\n",
      "81   46    1   231      3.6\n",
      "46   44    1   235      0.0\n",
      "39   65    0   360      0.8\n",
      "65   55    1   353      1.2\n",
      "58   58    1   224      3.2\n",
      "12   49    1   266      0.6\n",
      "88   68    1   274      1.6\n",
      "70   44    1   290      0.0\n",
      "87   58    1   270      0.8\n",
      "36   54    0   304      0.0\n",
      "21   44    1   233      0.4\n",
      "83   62    1   267      1.8\n",
      "9    57    1   168      1.6\n",
      "96   61    1   260      3.6\n",
      "67   61    0   330      0.0\n",
      "64   57    1   276      0.6\n",
      "47   47    1   257      0.0\n",
      "44   39    1   321      0.0\n",
      "\n",
      "\n",
      "Outputs/Labels of Training Data:\n",
      "================================\n",
      "\n",
      "    Disease\n",
      "43    1\n",
      "62    0\n",
      "3     1\n",
      "71    0\n",
      "45    1\n",
      "48    1\n",
      "6     1\n",
      "99    0\n",
      "82    0\n",
      "76    0\n",
      "60    0\n",
      "80    0\n",
      "90    0\n",
      "68    0\n",
      "51    0\n",
      "27    1\n",
      "18    1\n",
      "56    0\n",
      "63    0\n",
      "74    0\n",
      "1     1\n",
      "61    0\n",
      "42    1\n",
      "41    1\n",
      "4     1\n",
      "15    1\n",
      "17    1\n",
      "40    1\n",
      "38    1\n",
      "5     1\n",
      "91    0\n",
      "59    0\n",
      "0     1\n",
      "34    1\n",
      "28    1\n",
      "50    0\n",
      "11    1\n",
      "35    1\n",
      "23    1\n",
      "52    0\n",
      "10    1\n",
      "31    1\n",
      "66    0\n",
      "57    0\n",
      "79    0\n",
      "85    0\n",
      "32    1\n",
      "84    0\n",
      "14    1\n",
      "89    0\n",
      "19    1\n",
      "29    1\n",
      "49    1\n",
      "97    0\n",
      "98    0\n",
      "69    0\n",
      "20    1\n",
      "94    0\n",
      "72    0\n",
      "77    0\n",
      "25    1\n",
      "37    1\n",
      "81    0\n",
      "46    1\n",
      "39    1\n",
      "65    0\n",
      "58    0\n",
      "12    1\n",
      "88    0\n",
      "70    0\n",
      "87    0\n",
      "36    1\n",
      "21    1\n",
      "83    0\n",
      "9     1\n",
      "96    0\n",
      "67    0\n",
      "64    0\n",
      "47    1\n",
      "44    1\n",
      "Name: target, dtype: int64\n"
     ]
    }
   ],
   "source": [
    "# Splitting Input Vectors and Outputs / Labels of Training Data\n",
    "\n",
    "print(\"\\n\\nInputs Vectors (Feature Vectors) of Training Data:\")\n",
    "print(\"==================================================\\n\")\n",
    "input_vector_train = training_data.iloc[: , :-1]\n",
    "print(input_vector_train)\n",
    "\n",
    "print(\"\\n\\nOutputs/Labels of Training Data:\")\n",
    "print(\"================================\\n\")\n",
    "print(\"    Disease\")\n",
    "output_label_train = training_data.iloc[: ,-1]\n",
    "print(output_label_train)"
   ]
  },
  {
   "cell_type": "markdown",
   "metadata": {},
   "source": [
    "## 6.3: Train the Random Forest Regressor"
   ]
  },
  {
   "cell_type": "code",
   "execution_count": 7,
   "metadata": {},
   "outputs": [
    {
     "name": "stdout",
     "output_type": "stream",
     "text": [
      "\n",
      "\n",
      "Training the Random Forest Regressor on Training Data\n",
      "========================================================\n",
      "\n",
      "\n",
      "Parameters and their values:\n",
      "============================\n",
      "\n",
      "RandomForestRegressor(n_estimators=20, random_state=0)\n"
     ]
    }
   ],
   "source": [
    "# Train the Random Forest Regressor\n",
    "\n",
    "print(\"\\n\\nTraining the Random Forest Regressor on Training Data\")\n",
    "print(\"========================================================\\n\")\n",
    "print(\"\\nParameters and their values:\")\n",
    "print(\"============================\\n\")\n",
    "model = RandomForestRegressor(n_estimators=20, random_state=0)\n",
    "model.fit(input_vector_train,np.ravel(output_label_train))\n",
    "print(model)"
   ]
  },
  {
   "cell_type": "markdown",
   "metadata": {},
   "source": [
    "## Step 6.4: Save the Trained Model"
   ]
  },
  {
   "cell_type": "code",
   "execution_count": 8,
   "metadata": {},
   "outputs": [],
   "source": [
    "# Save the Model in a Pkl File\n",
    "\n",
    "pickle.dump(model, open('rfg_trained_model.pkl', 'wb'))"
   ]
  },
  {
   "cell_type": "markdown",
   "metadata": {},
   "source": [
    "# Step 7: Execute the Testing Phase "
   ]
  },
  {
   "cell_type": "markdown",
   "metadata": {},
   "source": [
    "## Step 7.1: Splitting Input Vectors and Outputs/Labels of Testing Data"
   ]
  },
  {
   "cell_type": "code",
   "execution_count": 9,
   "metadata": {},
   "outputs": [
    {
     "name": "stdout",
     "output_type": "stream",
     "text": [
      "\n",
      "\n",
      "Inputs Vectors (Feature Vectors) of Testing Data:\n",
      "=================================================\n",
      "\n",
      "    age  sex  chol  oldpeak\n",
      "26   59    1   212      1.6\n",
      "86   60    1   258      2.8\n",
      "2    41    0   204      1.4\n",
      "55   56    1   256      0.6\n",
      "75   51    0   305      1.2\n",
      "93   49    1   188      2.0\n",
      "16   58    0   340      0.0\n",
      "73   50    1   233      0.6\n",
      "54   53    1   203      3.1\n",
      "95   57    1   229      0.4\n",
      "53   63    1   254      1.4\n",
      "92   60    0   258      2.6\n",
      "78   60    1   282      2.8\n",
      "13   64    1   211      1.8\n",
      "7    44    1   263      0.0\n",
      "30   41    0   198      0.0\n",
      "22   42    1   226      0.0\n",
      "24   40    1   199      1.4\n",
      "33   54    1   273      0.5\n",
      "8    52    1   199      0.5\n",
      "\n",
      "\n",
      "Outputs/Labels of Testing Data:\n",
      "==============================\n",
      "\n",
      "    Disease\n",
      "26    1\n",
      "86    0\n",
      "2     1\n",
      "55    0\n",
      "75    0\n",
      "93    0\n",
      "16    1\n",
      "73    0\n",
      "54    0\n",
      "95    0\n",
      "53    0\n",
      "92    0\n",
      "78    0\n",
      "13    1\n",
      "7     1\n",
      "30    1\n",
      "22    1\n",
      "24    1\n",
      "33    1\n",
      "8     1\n",
      "Name: target, dtype: int64\n"
     ]
    }
   ],
   "source": [
    "# Splitting Input Vectors and Outputs/Labels of Testing Data\n",
    "\n",
    "print(\"\\n\\nInputs Vectors (Feature Vectors) of Testing Data:\")\n",
    "print(\"=================================================\\n\")\n",
    "input_vector_test = testing_data.iloc[: , :-1]\n",
    "print(input_vector_test)\n",
    "\n",
    "print(\"\\n\\nOutputs/Labels of Testing Data:\")\n",
    "print(\"==============================\\n\")\n",
    "print(\"    Disease\")\n",
    "output_label_test = testing_data.iloc[: ,-1]\n",
    "print(output_label_test)"
   ]
  },
  {
   "cell_type": "markdown",
   "metadata": {},
   "source": [
    "## Step 7.2: Load the Saved Model"
   ]
  },
  {
   "cell_type": "code",
   "execution_count": 10,
   "metadata": {},
   "outputs": [],
   "source": [
    "# Load the Saved Model\n",
    "\n",
    "model_test = pickle.load(open('rfg_trained_model.pkl', 'rb'))"
   ]
  },
  {
   "cell_type": "markdown",
   "metadata": {},
   "source": [
    "## Step 7.3: Evaluate the Machine Learning Model\n",
    "### Step 7.3.1: Make Predictions with the Trained Models on Testing Data"
   ]
  },
  {
   "cell_type": "code",
   "execution_count": 11,
   "metadata": {},
   "outputs": [
    {
     "name": "stdout",
     "output_type": "stream",
     "text": [
      "\n",
      "\n",
      "Predictions Returned by rfr_trained_model:\n",
      "==========================================\n",
      "\n",
      "    age  sex  chol  oldpeak  target  Predictions\n",
      "26   59    1   212      1.6       1            0\n",
      "86   60    1   258      2.8       0            0\n",
      "2    41    0   204      1.4       1            1\n",
      "55   56    1   256      0.6       0            0\n",
      "75   51    0   305      1.2       0            1\n",
      "93   49    1   188      2.0       0            0\n",
      "16   58    0   340      0.0       1            0\n",
      "73   50    1   233      0.6       0            1\n",
      "54   53    1   203      3.1       0            1\n",
      "95   57    1   229      0.4       0            1\n",
      "53   63    1   254      1.4       0            0\n",
      "92   60    0   258      2.6       0            1\n",
      "78   60    1   282      2.8       0            0\n",
      "13   64    1   211      1.8       1            1\n",
      "7    44    1   263      0.0       1            1\n",
      "30   41    0   198      0.0       1            1\n",
      "22   42    1   226      0.0       1            1\n",
      "24   40    1   199      1.4       1            0\n",
      "33   54    1   273      0.5       1            0\n",
      "8    52    1   199      0.5       1            1\n"
     ]
    }
   ],
   "source": [
    "# Provide Test data to the Trained Model\n",
    "\n",
    "model_predictions = np.floor(model_test.predict(input_vector_test)+0.5).astype(int) \n",
    "testing_data.copy(deep=True)\n",
    "pd.options.mode.chained_assignment = None\n",
    "testing_data[\"Predictions\"] = model_predictions\n",
    "\n",
    "# Save the Predictions into CSV File\n",
    "\n",
    "testing_data.to_csv(r'model-predictions.csv', index = False, header = True)\n",
    "\n",
    "model_predictions = testing_data \n",
    "print(\"\\n\\nPredictions Returned by rfr_trained_model:\")\n",
    "print(\"==========================================\\n\")\n",
    "print(model_predictions)"
   ]
  },
  {
   "cell_type": "markdown",
   "metadata": {},
   "source": [
    "## Step 7.4: Calculate the Accuracy Score"
   ]
  },
  {
   "cell_type": "code",
   "execution_count": 12,
   "metadata": {},
   "outputs": [
    {
     "name": "stdout",
     "output_type": "stream",
     "text": [
      "\n",
      "\n",
      "Accuracy Score:\n",
      "===============\n",
      "\n",
      "0.55\n"
     ]
    }
   ],
   "source": [
    "# Calculate the Accuracy\n",
    "\n",
    "model_accuracy_score = accuracy_score(model_predictions[\"target\"],model_predictions[\"Predictions\"])\n",
    "\n",
    "print(\"\\n\\nAccuracy Score:\")\n",
    "print(\"===============\\n\")\n",
    "print(round(model_accuracy_score,2))"
   ]
  },
  {
   "cell_type": "markdown",
   "metadata": {},
   "source": [
    "# Step 8: Execute the Application Phase"
   ]
  },
  {
   "cell_type": "markdown",
   "metadata": {},
   "source": [
    "## Step 8.1: Take Input from User"
   ]
  },
  {
   "cell_type": "code",
   "execution_count": 13,
   "metadata": {},
   "outputs": [],
   "source": [
    "# Take Input from User\n",
    "\n",
    "age_input = int(input(\"\\nPlease enter Age here: \").strip())\n",
    "gender_input = int(input(\"\\nPlease enter your Gender here (For Male write 0, For Female write 1) : \").strip())\n",
    "chol_input = int(input(\"\\nPlease enter your cholestrol level here: \").strip())\n",
    "oldpeak_input = float(input(\"\\nPlease enter oldpeak here: \").strip())"
   ]
  },
  {
   "cell_type": "markdown",
   "metadata": {},
   "source": [
    "## Step 8.2: Convert User Input into Feature Vector (Exactly Same as Feature Vectors of Sample Data)"
   ]
  },
  {
   "cell_type": "code",
   "execution_count": 14,
   "metadata": {},
   "outputs": [
    {
     "name": "stdout",
     "output_type": "stream",
     "text": [
      "\n",
      "\n",
      "User Input Feature Vector:\n",
      "==========================\n",
      "\n",
      "   age  sex  chol  oldpeak\n",
      "0   49    0   334      2.9\n"
     ]
    }
   ],
   "source": [
    "# Convert User Input into Feature Vector\n",
    "\n",
    "user_input = pd.DataFrame({ 'age': [age_input],'sex': [gender_input],'chol': [chol_input],'oldpeak': [oldpeak_input]})\n",
    "\n",
    "print(\"\\n\\nUser Input Feature Vector:\")\n",
    "print(\"==========================\\n\")\n",
    "print(user_input)"
   ]
  },
  {
   "cell_type": "markdown",
   "metadata": {},
   "source": [
    "## Step 8.3: Load the Saved Model"
   ]
  },
  {
   "cell_type": "code",
   "execution_count": 15,
   "metadata": {},
   "outputs": [],
   "source": [
    "# Load the Saved Model\n",
    "\n",
    "model = pickle.load(open('rfg_trained_model.pkl', 'rb'))"
   ]
  },
  {
   "cell_type": "markdown",
   "metadata": {},
   "source": [
    "## Step 8.5: Model Prediction\n",
    "### Step 8.5.1: Apply Model on the Label Encoded Feature Vector of unseen instance and return Prediction to the User"
   ]
  },
  {
   "cell_type": "code",
   "execution_count": 16,
   "metadata": {},
   "outputs": [
    {
     "name": "stdout",
     "output_type": "stream",
     "text": [
      "+--------------------------------+\n",
      "|        ** Prediction **        |\n",
      "+--------------------------------+\n",
      "|          HAS DISEASE           |\n",
      "+--------------------------------+\n"
     ]
    }
   ],
   "source": [
    "\n",
    "\n",
    "predicted_disease = math.floor(model.predict(user_input)[0]+0.5)\n",
    "\n",
    "# print(predicted_disease)\n",
    "if(predicted_disease == 1): \n",
    "    prediction = \"HAS DISEASE\"\n",
    "elif(predicted_disease == 0):\n",
    "    prediction = \"DOES NOT HAVE DISEASE\"\n",
    "\n",
    "# Add the Prediction in a Pretty Table\n",
    "\n",
    "pretty_table = PrettyTable()\n",
    "pretty_table.add_column(\"       ** Prediction **       \",[prediction])\n",
    "print(pretty_table)"
   ]
  },
  {
   "cell_type": "markdown",
   "metadata": {},
   "source": [
    "# Step 9: Execute the Feedback Phase\n",
    "## A Two-Step Process\n",
    "### Step 01: After some time, take Feedback from\n",
    "    o\tDomain Experts and Users on deployed Titanic Passenger Survival Prediction System\n",
    "### Step 02: Make a List of Possible Improvements based on Feedback received"
   ]
  },
  {
   "cell_type": "markdown",
   "metadata": {},
   "source": [
    "# Step 10: Improve Model based on Feedback\n",
    "### There is Always Room for Improvement\n",
    "### Based on Feedback from Domain Experts and Users\n",
    "    o\tImprove your Model"
   ]
  }
 ],
 "metadata": {
  "kernelspec": {
   "display_name": "Python 3",
   "language": "python",
   "name": "python3"
  },
  "language_info": {
   "codemirror_mode": {
    "name": "ipython",
    "version": 3
   },
   "file_extension": ".py",
   "mimetype": "text/x-python",
   "name": "python",
   "nbconvert_exporter": "python",
   "pygments_lexer": "ipython3",
   "version": "3.11.5"
  }
 },
 "nbformat": 4,
 "nbformat_minor": 2
}
